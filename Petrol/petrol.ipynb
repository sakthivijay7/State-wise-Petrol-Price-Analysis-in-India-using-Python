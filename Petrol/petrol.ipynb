{
 "cells": [
  {
   "cell_type": "markdown",
   "id": "84ed86c5",
   "metadata": {},
   "source": [
    "Import libraries"
   ]
  },
  {
   "cell_type": "code",
   "execution_count": 59,
   "id": "132aa3e1",
   "metadata": {},
   "outputs": [],
   "source": [
    "import requests\n",
    "from bs4 import BeautifulSoup   \n",
    "import pandas as pd"
   ]
  },
  {
   "cell_type": "markdown",
   "id": "a8b6d540",
   "metadata": {},
   "source": [
    "Web scrapping\n"
   ]
  },
  {
   "cell_type": "code",
   "execution_count": null,
   "id": "f5bb808c",
   "metadata": {},
   "outputs": [],
   "source": [
    "link=\"https://www.cardekho.com/fuel-price\"\n",
    "header={\"User-Agent\":\"Mozilla/5.0\"}\n",
    "response=requests.get(link,headers=header)\n",
    "soup=BeautifulSoup(response.text,\"lxml\")\n",
    "\n",
    "## Find table --> tbody --> tr -->td texts\n",
    "table=soup.find_all(\"table\")\n",
    "expect_table=table[3]\n",
    "# print(len(table))\n",
    "# for i,j in enumerate(table):\n",
    "#     print(i,j)\n",
    "   \n",
    "tbody=expect_table.find(\"tbody\")\n",
    "table_row=tbody.find_all(\"tr\")\n",
    "petrol=[]\n",
    "\n",
    "for rows in table_row:\n",
    "    table_data=rows.find_all(\"td\")\n",
    "    data=[i.text.strip() for i in table_data]\n",
    "    petrol.append(data)\n",
    "## Create dataframe    \n",
    "df=pd.DataFrame(petrol[2:],columns=[\"State\",\"Petrol_Price(Cost/L)\"])    \n",
    "df.to_csv(\"petrol_data.csv\")"
   ]
  },
  {
   "cell_type": "code",
   "execution_count": 27,
   "id": "6dae9108",
   "metadata": {},
   "outputs": [],
   "source": [
    "import pandas as pd"
   ]
  },
  {
   "cell_type": "markdown",
   "id": "94a72875",
   "metadata": {},
   "source": [
    "Read the csv file"
   ]
  },
  {
   "cell_type": "code",
   "execution_count": 253,
   "id": "d51a3f3b",
   "metadata": {},
   "outputs": [
    {
     "name": "stdout",
     "output_type": "stream",
     "text": [
      "               State Petrol_Price(Cost/L)\n",
      "0     Andhra Pradesh              ₹109.76\n",
      "1  Arunachal Pradesh               ₹92.66\n",
      "2              Assam                  ₹99\n",
      "3              Bihar              ₹106.94\n",
      "4         Chandigarh                ₹94.3\n"
     ]
    }
   ],
   "source": [
    "dataset=pd.read_csv(\"petrol_data.csv\",index_col=0)\n",
    "print(dataset.head())"
   ]
  },
  {
   "cell_type": "markdown",
   "id": "243da37c",
   "metadata": {},
   "source": [
    "Data types"
   ]
  },
  {
   "cell_type": "code",
   "execution_count": 254,
   "id": "b4b384c3",
   "metadata": {},
   "outputs": [
    {
     "data": {
      "text/plain": [
       "State                   object\n",
       "Petrol_Price(Cost/L)    object\n",
       "dtype: object"
      ]
     },
     "execution_count": 254,
     "metadata": {},
     "output_type": "execute_result"
    }
   ],
   "source": [
    "dataset.dtypes"
   ]
  },
  {
   "cell_type": "markdown",
   "id": "d65bb57a",
   "metadata": {},
   "source": [
    "Dataset Information"
   ]
  },
  {
   "cell_type": "code",
   "execution_count": 255,
   "id": "922cc3b8",
   "metadata": {},
   "outputs": [
    {
     "name": "stdout",
     "output_type": "stream",
     "text": [
      "<class 'pandas.core.frame.DataFrame'>\n",
      "Int64Index: 31 entries, 0 to 30\n",
      "Data columns (total 2 columns):\n",
      " #   Column                Non-Null Count  Dtype \n",
      "---  ------                --------------  ----- \n",
      " 0   State                 31 non-null     object\n",
      " 1   Petrol_Price(Cost/L)  31 non-null     object\n",
      "dtypes: object(2)\n",
      "memory usage: 744.0+ bytes\n"
     ]
    }
   ],
   "source": [
    "dataset.info()"
   ]
  },
  {
   "cell_type": "markdown",
   "id": "0b72a791",
   "metadata": {},
   "source": [
    "Check null values"
   ]
  },
  {
   "cell_type": "code",
   "execution_count": 256,
   "id": "b60ad92c",
   "metadata": {},
   "outputs": [
    {
     "data": {
      "text/plain": [
       "State                   0\n",
       "Petrol_Price(Cost/L)    0\n",
       "dtype: int64"
      ]
     },
     "execution_count": 256,
     "metadata": {},
     "output_type": "execute_result"
    }
   ],
   "source": [
    "dataset.isnull().sum()"
   ]
  },
  {
   "cell_type": "markdown",
   "id": "96664e22",
   "metadata": {},
   "source": [
    "small stats"
   ]
  },
  {
   "cell_type": "code",
   "execution_count": 257,
   "id": "6b7ce86f",
   "metadata": {},
   "outputs": [
    {
     "data": {
      "application/vnd.microsoft.datawrangler.viewer.v0+json": {
       "columns": [
        {
         "name": "index",
         "rawType": "object",
         "type": "string"
        },
        {
         "name": "State",
         "rawType": "object",
         "type": "string"
        },
        {
         "name": "Petrol_Price(Cost/L)",
         "rawType": "object",
         "type": "string"
        }
       ],
       "conversionMethod": "pd.DataFrame",
       "ref": "dba403ff-f61f-4605-ad7d-ec56d04ff0c7",
       "rows": [
        [
         "count",
         "31",
         "31"
        ],
        [
         "unique",
         "31",
         "31"
        ],
        [
         "top",
         "Andhra Pradesh",
         "₹109.76"
        ],
        [
         "freq",
         "1",
         "1"
        ]
       ],
       "shape": {
        "columns": 2,
        "rows": 4
       }
      },
      "text/html": [
       "<div>\n",
       "<style scoped>\n",
       "    .dataframe tbody tr th:only-of-type {\n",
       "        vertical-align: middle;\n",
       "    }\n",
       "\n",
       "    .dataframe tbody tr th {\n",
       "        vertical-align: top;\n",
       "    }\n",
       "\n",
       "    .dataframe thead th {\n",
       "        text-align: right;\n",
       "    }\n",
       "</style>\n",
       "<table border=\"1\" class=\"dataframe\">\n",
       "  <thead>\n",
       "    <tr style=\"text-align: right;\">\n",
       "      <th></th>\n",
       "      <th>State</th>\n",
       "      <th>Petrol_Price(Cost/L)</th>\n",
       "    </tr>\n",
       "  </thead>\n",
       "  <tbody>\n",
       "    <tr>\n",
       "      <th>count</th>\n",
       "      <td>31</td>\n",
       "      <td>31</td>\n",
       "    </tr>\n",
       "    <tr>\n",
       "      <th>unique</th>\n",
       "      <td>31</td>\n",
       "      <td>31</td>\n",
       "    </tr>\n",
       "    <tr>\n",
       "      <th>top</th>\n",
       "      <td>Andhra Pradesh</td>\n",
       "      <td>₹109.76</td>\n",
       "    </tr>\n",
       "    <tr>\n",
       "      <th>freq</th>\n",
       "      <td>1</td>\n",
       "      <td>1</td>\n",
       "    </tr>\n",
       "  </tbody>\n",
       "</table>\n",
       "</div>"
      ],
      "text/plain": [
       "                 State Petrol_Price(Cost/L)\n",
       "count               31                   31\n",
       "unique              31                   31\n",
       "top     Andhra Pradesh              ₹109.76\n",
       "freq                 1                    1"
      ]
     },
     "execution_count": 257,
     "metadata": {},
     "output_type": "execute_result"
    }
   ],
   "source": [
    "dataset.describe()"
   ]
  },
  {
   "cell_type": "markdown",
   "id": "8bbe1e34",
   "metadata": {},
   "source": [
    "Column names"
   ]
  },
  {
   "cell_type": "code",
   "execution_count": 258,
   "id": "b6b88926",
   "metadata": {},
   "outputs": [
    {
     "data": {
      "text/plain": [
       "Index(['State', 'Petrol_Price(Cost/L)'], dtype='object')"
      ]
     },
     "execution_count": 258,
     "metadata": {},
     "output_type": "execute_result"
    }
   ],
   "source": [
    "dataset.columns"
   ]
  },
  {
   "cell_type": "markdown",
   "id": "b4672edd",
   "metadata": {},
   "source": [
    "Remove \"₹\" symbol"
   ]
  },
  {
   "cell_type": "code",
   "execution_count": 259,
   "id": "e089c30f",
   "metadata": {},
   "outputs": [
    {
     "name": "stdout",
     "output_type": "stream",
     "text": [
      "               State  Petrol_Price(Cost/L)\n",
      "0     Andhra Pradesh                109.76\n",
      "1  Arunachal Pradesh                 92.66\n",
      "2              Assam                 99.00\n",
      "3              Bihar                106.94\n",
      "4         Chandigarh                 94.30\n"
     ]
    }
   ],
   "source": [
    "dataset[\"Petrol_Price(Cost/L)\"]=dataset[\"Petrol_Price(Cost/L)\"].replace(r\"[^\\d.]\",\"\",regex=True).astype(\"float\")\n",
    "print(dataset.head())"
   ]
  },
  {
   "cell_type": "markdown",
   "id": "b03aee41",
   "metadata": {},
   "source": [
    "Sort value by price"
   ]
  },
  {
   "cell_type": "code",
   "execution_count": 260,
   "id": "0f6bce7d",
   "metadata": {},
   "outputs": [
    {
     "name": "stdout",
     "output_type": "stream",
     "text": [
      "             State  Petrol_Price(Cost/L)\n",
      "0   Andhra Pradesh                109.76\n",
      "26       Telangana                108.83\n",
      "14  Madhya Pradesh                107.83\n",
      "3            Bihar                106.94\n",
      "30     West Bengal                106.68\n"
     ]
    }
   ],
   "source": [
    "sort=dataset.sort_values(\"Petrol_Price(Cost/L)\",ascending=False)\n",
    "print(sort.head())"
   ]
  },
  {
   "cell_type": "markdown",
   "id": "9ab9715f",
   "metadata": {},
   "source": [
    "sorted value description"
   ]
  },
  {
   "cell_type": "code",
   "execution_count": 261,
   "id": "ed4a6aad",
   "metadata": {},
   "outputs": [
    {
     "data": {
      "application/vnd.microsoft.datawrangler.viewer.v0+json": {
       "columns": [
        {
         "name": "index",
         "rawType": "object",
         "type": "string"
        },
        {
         "name": "Petrol_Price(Cost/L)",
         "rawType": "float64",
         "type": "float"
        }
       ],
       "conversionMethod": "pd.DataFrame",
       "ref": "39e877c2-b19d-4244-9bbc-b84b6174d5a6",
       "rows": [
        [
         "count",
         "31.0"
        ],
        [
         "mean",
         "99.47967741935484"
        ],
        [
         "std",
         "5.304463204931591"
        ],
        [
         "min",
         "92.37"
        ],
        [
         "25%",
         "94.94"
        ],
        [
         "50%",
         "98.45"
        ],
        [
         "75%",
         "103.75"
        ],
        [
         "max",
         "109.76"
        ]
       ],
       "shape": {
        "columns": 1,
        "rows": 8
       }
      },
      "text/html": [
       "<div>\n",
       "<style scoped>\n",
       "    .dataframe tbody tr th:only-of-type {\n",
       "        vertical-align: middle;\n",
       "    }\n",
       "\n",
       "    .dataframe tbody tr th {\n",
       "        vertical-align: top;\n",
       "    }\n",
       "\n",
       "    .dataframe thead th {\n",
       "        text-align: right;\n",
       "    }\n",
       "</style>\n",
       "<table border=\"1\" class=\"dataframe\">\n",
       "  <thead>\n",
       "    <tr style=\"text-align: right;\">\n",
       "      <th></th>\n",
       "      <th>Petrol_Price(Cost/L)</th>\n",
       "    </tr>\n",
       "  </thead>\n",
       "  <tbody>\n",
       "    <tr>\n",
       "      <th>count</th>\n",
       "      <td>31.000000</td>\n",
       "    </tr>\n",
       "    <tr>\n",
       "      <th>mean</th>\n",
       "      <td>99.479677</td>\n",
       "    </tr>\n",
       "    <tr>\n",
       "      <th>std</th>\n",
       "      <td>5.304463</td>\n",
       "    </tr>\n",
       "    <tr>\n",
       "      <th>min</th>\n",
       "      <td>92.370000</td>\n",
       "    </tr>\n",
       "    <tr>\n",
       "      <th>25%</th>\n",
       "      <td>94.940000</td>\n",
       "    </tr>\n",
       "    <tr>\n",
       "      <th>50%</th>\n",
       "      <td>98.450000</td>\n",
       "    </tr>\n",
       "    <tr>\n",
       "      <th>75%</th>\n",
       "      <td>103.750000</td>\n",
       "    </tr>\n",
       "    <tr>\n",
       "      <th>max</th>\n",
       "      <td>109.760000</td>\n",
       "    </tr>\n",
       "  </tbody>\n",
       "</table>\n",
       "</div>"
      ],
      "text/plain": [
       "       Petrol_Price(Cost/L)\n",
       "count             31.000000\n",
       "mean              99.479677\n",
       "std                5.304463\n",
       "min               92.370000\n",
       "25%               94.940000\n",
       "50%               98.450000\n",
       "75%              103.750000\n",
       "max              109.760000"
      ]
     },
     "execution_count": 261,
     "metadata": {},
     "output_type": "execute_result"
    }
   ],
   "source": [
    "sort.describe()"
   ]
  },
  {
   "cell_type": "markdown",
   "id": "7ca708c4",
   "metadata": {},
   "source": [
    "Pivot table"
   ]
  },
  {
   "cell_type": "code",
   "execution_count": 262,
   "id": "6cfea898",
   "metadata": {},
   "outputs": [
    {
     "data": {
      "application/vnd.microsoft.datawrangler.viewer.v0+json": {
       "columns": [
        {
         "name": "State",
         "rawType": "object",
         "type": "string"
        },
        {
         "name": "Petrol_Price(Cost/L)",
         "rawType": "float64",
         "type": "float"
        }
       ],
       "conversionMethod": "pd.DataFrame",
       "ref": "50b7a689-90a8-4137-bf17-c2499b4333d4",
       "rows": [
        [
         "Andhra Pradesh",
         "109.76"
        ],
        [
         "Arunachal Pradesh",
         "92.66"
        ],
        [
         "Assam",
         "99.0"
        ],
        [
         "Bihar",
         "106.94"
        ],
        [
         "Chandigarh",
         "94.3"
        ],
        [
         "Dadra and Nagar Haveli",
         "92.57"
        ],
        [
         "Daman and Diu",
         "92.37"
        ],
        [
         "Delhi",
         "94.77"
        ],
        [
         "Gujarat",
         "94.29"
        ],
        [
         "Haryana",
         "95.67"
        ],
        [
         "Himachal Pradesh",
         "94.33"
        ],
        [
         "Jharkhand",
         "98.45"
        ],
        [
         "Karnataka",
         "103.39"
        ],
        [
         "Kerala",
         "105.87"
        ],
        [
         "Madhya Pradesh",
         "107.83"
        ],
        [
         "Maharashtra",
         "104.11"
        ],
        [
         "Manipur",
         "99.09"
        ],
        [
         "Meghalaya",
         "95.62"
        ],
        [
         "Mizoram",
         "99.15"
        ],
        [
         "Nagaland",
         "96.66"
        ],
        [
         "Odisha",
         "102.63"
        ],
        [
         "Pondicherry",
         "96.03"
        ],
        [
         "Punjab",
         "97.34"
        ],
        [
         "Rajasthan",
         "104.36"
        ],
        [
         "Sikkim",
         "101.9"
        ],
        [
         "Tamil Nadu",
         "102.08"
        ],
        [
         "Telangana",
         "108.83"
        ],
        [
         "Tripura",
         "97.53"
        ],
        [
         "Uttar Pradesh",
         "94.55"
        ],
        [
         "Uttarakhand",
         "95.11"
        ],
        [
         "West Bengal",
         "106.68"
        ]
       ],
       "shape": {
        "columns": 1,
        "rows": 31
       }
      },
      "text/html": [
       "<div>\n",
       "<style scoped>\n",
       "    .dataframe tbody tr th:only-of-type {\n",
       "        vertical-align: middle;\n",
       "    }\n",
       "\n",
       "    .dataframe tbody tr th {\n",
       "        vertical-align: top;\n",
       "    }\n",
       "\n",
       "    .dataframe thead th {\n",
       "        text-align: right;\n",
       "    }\n",
       "</style>\n",
       "<table border=\"1\" class=\"dataframe\">\n",
       "  <thead>\n",
       "    <tr style=\"text-align: right;\">\n",
       "      <th></th>\n",
       "      <th>Petrol_Price(Cost/L)</th>\n",
       "    </tr>\n",
       "    <tr>\n",
       "      <th>State</th>\n",
       "      <th></th>\n",
       "    </tr>\n",
       "  </thead>\n",
       "  <tbody>\n",
       "    <tr>\n",
       "      <th>Andhra Pradesh</th>\n",
       "      <td>109.76</td>\n",
       "    </tr>\n",
       "    <tr>\n",
       "      <th>Arunachal Pradesh</th>\n",
       "      <td>92.66</td>\n",
       "    </tr>\n",
       "    <tr>\n",
       "      <th>Assam</th>\n",
       "      <td>99.00</td>\n",
       "    </tr>\n",
       "    <tr>\n",
       "      <th>Bihar</th>\n",
       "      <td>106.94</td>\n",
       "    </tr>\n",
       "    <tr>\n",
       "      <th>Chandigarh</th>\n",
       "      <td>94.30</td>\n",
       "    </tr>\n",
       "    <tr>\n",
       "      <th>Dadra and Nagar Haveli</th>\n",
       "      <td>92.57</td>\n",
       "    </tr>\n",
       "    <tr>\n",
       "      <th>Daman and Diu</th>\n",
       "      <td>92.37</td>\n",
       "    </tr>\n",
       "    <tr>\n",
       "      <th>Delhi</th>\n",
       "      <td>94.77</td>\n",
       "    </tr>\n",
       "    <tr>\n",
       "      <th>Gujarat</th>\n",
       "      <td>94.29</td>\n",
       "    </tr>\n",
       "    <tr>\n",
       "      <th>Haryana</th>\n",
       "      <td>95.67</td>\n",
       "    </tr>\n",
       "    <tr>\n",
       "      <th>Himachal Pradesh</th>\n",
       "      <td>94.33</td>\n",
       "    </tr>\n",
       "    <tr>\n",
       "      <th>Jharkhand</th>\n",
       "      <td>98.45</td>\n",
       "    </tr>\n",
       "    <tr>\n",
       "      <th>Karnataka</th>\n",
       "      <td>103.39</td>\n",
       "    </tr>\n",
       "    <tr>\n",
       "      <th>Kerala</th>\n",
       "      <td>105.87</td>\n",
       "    </tr>\n",
       "    <tr>\n",
       "      <th>Madhya Pradesh</th>\n",
       "      <td>107.83</td>\n",
       "    </tr>\n",
       "    <tr>\n",
       "      <th>Maharashtra</th>\n",
       "      <td>104.11</td>\n",
       "    </tr>\n",
       "    <tr>\n",
       "      <th>Manipur</th>\n",
       "      <td>99.09</td>\n",
       "    </tr>\n",
       "    <tr>\n",
       "      <th>Meghalaya</th>\n",
       "      <td>95.62</td>\n",
       "    </tr>\n",
       "    <tr>\n",
       "      <th>Mizoram</th>\n",
       "      <td>99.15</td>\n",
       "    </tr>\n",
       "    <tr>\n",
       "      <th>Nagaland</th>\n",
       "      <td>96.66</td>\n",
       "    </tr>\n",
       "    <tr>\n",
       "      <th>Odisha</th>\n",
       "      <td>102.63</td>\n",
       "    </tr>\n",
       "    <tr>\n",
       "      <th>Pondicherry</th>\n",
       "      <td>96.03</td>\n",
       "    </tr>\n",
       "    <tr>\n",
       "      <th>Punjab</th>\n",
       "      <td>97.34</td>\n",
       "    </tr>\n",
       "    <tr>\n",
       "      <th>Rajasthan</th>\n",
       "      <td>104.36</td>\n",
       "    </tr>\n",
       "    <tr>\n",
       "      <th>Sikkim</th>\n",
       "      <td>101.90</td>\n",
       "    </tr>\n",
       "    <tr>\n",
       "      <th>Tamil Nadu</th>\n",
       "      <td>102.08</td>\n",
       "    </tr>\n",
       "    <tr>\n",
       "      <th>Telangana</th>\n",
       "      <td>108.83</td>\n",
       "    </tr>\n",
       "    <tr>\n",
       "      <th>Tripura</th>\n",
       "      <td>97.53</td>\n",
       "    </tr>\n",
       "    <tr>\n",
       "      <th>Uttar Pradesh</th>\n",
       "      <td>94.55</td>\n",
       "    </tr>\n",
       "    <tr>\n",
       "      <th>Uttarakhand</th>\n",
       "      <td>95.11</td>\n",
       "    </tr>\n",
       "    <tr>\n",
       "      <th>West Bengal</th>\n",
       "      <td>106.68</td>\n",
       "    </tr>\n",
       "  </tbody>\n",
       "</table>\n",
       "</div>"
      ],
      "text/plain": [
       "                        Petrol_Price(Cost/L)\n",
       "State                                       \n",
       "Andhra Pradesh                        109.76\n",
       "Arunachal Pradesh                      92.66\n",
       "Assam                                  99.00\n",
       "Bihar                                 106.94\n",
       "Chandigarh                             94.30\n",
       "Dadra and Nagar Haveli                 92.57\n",
       "Daman and Diu                          92.37\n",
       "Delhi                                  94.77\n",
       "Gujarat                                94.29\n",
       "Haryana                                95.67\n",
       "Himachal Pradesh                       94.33\n",
       "Jharkhand                              98.45\n",
       "Karnataka                             103.39\n",
       "Kerala                                105.87\n",
       "Madhya Pradesh                        107.83\n",
       "Maharashtra                           104.11\n",
       "Manipur                                99.09\n",
       "Meghalaya                              95.62\n",
       "Mizoram                                99.15\n",
       "Nagaland                               96.66\n",
       "Odisha                                102.63\n",
       "Pondicherry                            96.03\n",
       "Punjab                                 97.34\n",
       "Rajasthan                             104.36\n",
       "Sikkim                                101.90\n",
       "Tamil Nadu                            102.08\n",
       "Telangana                             108.83\n",
       "Tripura                                97.53\n",
       "Uttar Pradesh                          94.55\n",
       "Uttarakhand                            95.11\n",
       "West Bengal                           106.68"
      ]
     },
     "execution_count": 262,
     "metadata": {},
     "output_type": "execute_result"
    }
   ],
   "source": [
    "pivot=dataset.pivot_table(index=\"State\",values=sort)\n",
    "pivot"
   ]
  },
  {
   "cell_type": "markdown",
   "id": "0cd5cec8",
   "metadata": {},
   "source": [
    "Manimum price and Maximum price"
   ]
  },
  {
   "cell_type": "code",
   "execution_count": 301,
   "id": "09c73d38",
   "metadata": {},
   "outputs": [
    {
     "name": "stdout",
     "output_type": "stream",
     "text": [
      "State                   Daman and Diu\n",
      "Petrol_Price(Cost/L)            92.37\n",
      "Name: 6, dtype: object\n",
      "State                   Andhra Pradesh\n",
      "Petrol_Price(Cost/L)            109.76\n",
      "Name: 0, dtype: object\n"
     ]
    }
   ],
   "source": [
    "high=sort.iloc[0]\n",
    "low=sort.iloc[-1]\n",
    "print(low)\n",
    "print(high)"
   ]
  },
  {
   "cell_type": "code",
   "execution_count": 264,
   "id": "d5b82fe3",
   "metadata": {},
   "outputs": [],
   "source": [
    "\n",
    "import matplotlib.pyplot as plt"
   ]
  },
  {
   "cell_type": "markdown",
   "id": "a2991a68",
   "metadata": {},
   "source": [
    "State wise Petrol Price"
   ]
  },
  {
   "cell_type": "code",
   "execution_count": 305,
   "id": "43fb3727",
   "metadata": {},
   "outputs": [
    {
     "data": {
      "text/plain": [
       "<BarContainer object of 31 artists>"
      ]
     },
     "execution_count": 305,
     "metadata": {},
     "output_type": "execute_result"
    },
    {
     "data": {
      "image/png": "[encoded data removed]",
      "text/plain": [
       "<Figure size 1500x800 with 1 Axes>"
      ]
     },
     "metadata": {},
     "output_type": "display_data"
    }
   ],
   "source": [
    "x=dataset[\"State\"]\n",
    "y=dataset[\"Petrol_Price(Cost/L)\"]\n",
    "plt.figure(figsize=(15,8))\n",
    "plt.title(\"state wise petrol price\")\n",
    "plt.xticks(rotation=90)\n",
    "plt.xlabel(\"State\")\n",
    "plt.ylabel(\"Price in Rs\")\n",
    "plt.bar(x,y)"
   ]
  },
  {
   "cell_type": "markdown",
   "id": "0ac7dd70",
   "metadata": {},
   "source": [
    "South India Petrol Price"
   ]
  },
  {
   "cell_type": "code",
   "execution_count": null,
   "id": "df86f384",
   "metadata": {},
   "outputs": [
    {
     "data": {
      "application/vnd.microsoft.datawrangler.viewer.v0+json": {
       "columns": [
        {
         "name": "index",
         "rawType": "int64",
         "type": "integer"
        },
        {
         "name": "State",
         "rawType": "object",
         "type": "string"
        },
        {
         "name": "Petrol_Price(Cost/L)",
         "rawType": "float64",
         "type": "float"
        }
       ],
       "conversionMethod": "pd.DataFrame",
       "ref": "5dabcc2e-b727-4f19-a576-4f9f544af3d5",
       "rows": [
        [
         "25",
         "Tamil Nadu",
         "102.08"
        ],
        [
         "12",
         "Karnataka",
         "103.39"
        ],
        [
         "13",
         "Kerala",
         "105.87"
        ],
        [
         "0",
         "Andhra Pradesh",
         "109.76"
        ]
       ],
       "shape": {
        "columns": 2,
        "rows": 4
       }
      },
      "text/html": [
       "<div>\n",
       "<style scoped>\n",
       "    .dataframe tbody tr th:only-of-type {\n",
       "        vertical-align: middle;\n",
       "    }\n",
       "\n",
       "    .dataframe tbody tr th {\n",
       "        vertical-align: top;\n",
       "    }\n",
       "\n",
       "    .dataframe thead th {\n",
       "        text-align: right;\n",
       "    }\n",
       "</style>\n",
       "<table border=\"1\" class=\"dataframe\">\n",
       "  <thead>\n",
       "    <tr style=\"text-align: right;\">\n",
       "      <th></th>\n",
       "      <th>State</th>\n",
       "      <th>Petrol_Price(Cost/L)</th>\n",
       "    </tr>\n",
       "  </thead>\n",
       "  <tbody>\n",
       "    <tr>\n",
       "      <th>25</th>\n",
       "      <td>Tamil Nadu</td>\n",
       "      <td>102.08</td>\n",
       "    </tr>\n",
       "    <tr>\n",
       "      <th>12</th>\n",
       "      <td>Karnataka</td>\n",
       "      <td>103.39</td>\n",
       "    </tr>\n",
       "    <tr>\n",
       "      <th>13</th>\n",
       "      <td>Kerala</td>\n",
       "      <td>105.87</td>\n",
       "    </tr>\n",
       "    <tr>\n",
       "      <th>0</th>\n",
       "      <td>Andhra Pradesh</td>\n",
       "      <td>109.76</td>\n",
       "    </tr>\n",
       "  </tbody>\n",
       "</table>\n",
       "</div>"
      ],
      "text/plain": [
       "             State  Petrol_Price(Cost/L)\n",
       "25      Tamil Nadu                102.08\n",
       "12       Karnataka                103.39\n",
       "13          Kerala                105.87\n",
       "0   Andhra Pradesh                109.76"
      ]
     },
     "execution_count": 297,
     "metadata": {},
     "output_type": "execute_result"
    }
   ],
   "source": [
    "near_tamilnadu=[\"Tamil Nadu\",\"Kerala\",\"Karnataka\",\"Andhra Pradesh\"]\n",
    "match=dataset[dataset[\"State\"].isin(near_tamilnadu)]\n",
    "match.sort_values(\"Petrol_Price(Cost/L)\").agg()\n"
   ]
  },
  {
   "cell_type": "markdown",
   "id": "61fcea20",
   "metadata": {},
   "source": [
    "Average ,Max,Min Price in South India"
   ]
  },
  {
   "cell_type": "code",
   "execution_count": 302,
   "id": "78b5a8ec",
   "metadata": {},
   "outputs": [
    {
     "data": {
      "application/vnd.microsoft.datawrangler.viewer.v0+json": {
       "columns": [
        {
         "name": "index",
         "rawType": "object",
         "type": "string"
        },
        {
         "name": "Petrol_Price(Cost/L)",
         "rawType": "float64",
         "type": "float"
        }
       ],
       "conversionMethod": "pd.DataFrame",
       "ref": "6ce6e8e3-525c-4771-aa87-a5df0914a0d9",
       "rows": [
        [
         "count",
         "4.0"
        ],
        [
         "mean",
         "105.27499999999999"
        ],
        [
         "std",
         "3.377893821106088"
        ],
        [
         "min",
         "102.08"
        ],
        [
         "25%",
         "103.0625"
        ],
        [
         "50%",
         "104.63"
        ],
        [
         "75%",
         "106.8425"
        ],
        [
         "max",
         "109.76"
        ]
       ],
       "shape": {
        "columns": 1,
        "rows": 8
       }
      },
      "text/html": [
       "<div>\n",
       "<style scoped>\n",
       "    .dataframe tbody tr th:only-of-type {\n",
       "        vertical-align: middle;\n",
       "    }\n",
       "\n",
       "    .dataframe tbody tr th {\n",
       "        vertical-align: top;\n",
       "    }\n",
       "\n",
       "    .dataframe thead th {\n",
       "        text-align: right;\n",
       "    }\n",
       "</style>\n",
       "<table border=\"1\" class=\"dataframe\">\n",
       "  <thead>\n",
       "    <tr style=\"text-align: right;\">\n",
       "      <th></th>\n",
       "      <th>Petrol_Price(Cost/L)</th>\n",
       "    </tr>\n",
       "  </thead>\n",
       "  <tbody>\n",
       "    <tr>\n",
       "      <th>count</th>\n",
       "      <td>4.000000</td>\n",
       "    </tr>\n",
       "    <tr>\n",
       "      <th>mean</th>\n",
       "      <td>105.275000</td>\n",
       "    </tr>\n",
       "    <tr>\n",
       "      <th>std</th>\n",
       "      <td>3.377894</td>\n",
       "    </tr>\n",
       "    <tr>\n",
       "      <th>min</th>\n",
       "      <td>102.080000</td>\n",
       "    </tr>\n",
       "    <tr>\n",
       "      <th>25%</th>\n",
       "      <td>103.062500</td>\n",
       "    </tr>\n",
       "    <tr>\n",
       "      <th>50%</th>\n",
       "      <td>104.630000</td>\n",
       "    </tr>\n",
       "    <tr>\n",
       "      <th>75%</th>\n",
       "      <td>106.842500</td>\n",
       "    </tr>\n",
       "    <tr>\n",
       "      <th>max</th>\n",
       "      <td>109.760000</td>\n",
       "    </tr>\n",
       "  </tbody>\n",
       "</table>\n",
       "</div>"
      ],
      "text/plain": [
       "       Petrol_Price(Cost/L)\n",
       "count              4.000000\n",
       "mean             105.275000\n",
       "std                3.377894\n",
       "min              102.080000\n",
       "25%              103.062500\n",
       "50%              104.630000\n",
       "75%              106.842500\n",
       "max              109.760000"
      ]
     },
     "execution_count": 302,
     "metadata": {},
     "output_type": "execute_result"
    }
   ],
   "source": [
    "match.describe()"
   ]
  },
  {
   "cell_type": "markdown",
   "id": "4ac81ab1",
   "metadata": {},
   "source": [
    "10-High Petrol Price states"
   ]
  },
  {
   "cell_type": "code",
   "execution_count": 322,
   "id": "deb8f005",
   "metadata": {},
   "outputs": [
    {
     "data": {
      "image/png": "[encoded data removed]",
      "text/plain": [
       "<Figure size 640x480 with 1 Axes>"
      ]
     },
     "metadata": {},
     "output_type": "display_data"
    },
    {
     "name": "stdout",
     "output_type": "stream",
     "text": [
      "             State  Petrol_Price(Cost/L)\n",
      "0   Andhra Pradesh                109.76\n",
      "26       Telangana                108.83\n",
      "14  Madhya Pradesh                107.83\n",
      "3            Bihar                106.94\n",
      "30     West Bengal                106.68\n",
      "13          Kerala                105.87\n",
      "23       Rajasthan                104.36\n",
      "15     Maharashtra                104.11\n",
      "12       Karnataka                103.39\n",
      "20          Odisha                102.63\n"
     ]
    }
   ],
   "source": [
    "a=sort.iloc[:,0]\n",
    "b=sort.iloc[:,1]\n",
    "plt.barh(a.head(10),b.head(10))\n",
    "plt.title(\"10 Highest Petrol Price\")\n",
    "plt.show()\n",
    "print(sort.head(10))"
   ]
  },
  {
   "cell_type": "markdown",
   "id": "9dbab887",
   "metadata": {},
   "source": [
    "Low Petrol Price states"
   ]
  },
  {
   "cell_type": "code",
   "execution_count": 323,
   "id": "26bfe614",
   "metadata": {},
   "outputs": [
    {
     "data": {
      "image/png": "[encoded data removed]",
      "text/plain": [
       "<Figure size 640x480 with 1 Axes>"
      ]
     },
     "metadata": {},
     "output_type": "display_data"
    },
    {
     "name": "stdout",
     "output_type": "stream",
     "text": [
      "                     State  Petrol_Price(Cost/L)\n",
      "17               Meghalaya                 95.62\n",
      "29             Uttarakhand                 95.11\n",
      "7                    Delhi                 94.77\n",
      "28           Uttar Pradesh                 94.55\n",
      "10        Himachal Pradesh                 94.33\n",
      "4               Chandigarh                 94.30\n",
      "8                  Gujarat                 94.29\n",
      "1        Arunachal Pradesh                 92.66\n",
      "5   Dadra and Nagar Haveli                 92.57\n",
      "6            Daman and Diu                 92.37\n"
     ]
    }
   ],
   "source": [
    "plt.barh(a.tail(10),b.tail(10))\n",
    "plt.title(\"10 Lowest Petrol Price\")\n",
    "plt.show()\n",
    "print(sort.tail(10))\n"
   ]
  }
 ],
 "metadata": {
  "kernelspec": {
   "display_name": "Python 3",
   "language": "python",
   "name": "python3"
  },
  "language_info": {
   "codemirror_mode": {
    "name": "ipython",
    "version": 3
   },
   "file_extension": ".py",
   "mimetype": "text/x-python",
   "name": "python",
   "nbconvert_exporter": "python",
   "pygments_lexer": "ipython3",
   "version": "3.9.6"
  }
 },
 "nbformat": 4,
 "nbformat_minor": 5
}
